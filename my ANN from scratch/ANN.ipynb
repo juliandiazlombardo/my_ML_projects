{
 "cells": [
  {
   "cell_type": "code",
   "execution_count": 1,
   "id": "a4c3733d-971b-468c-9d06-34cb49d1113c",
   "metadata": {
    "tags": []
   },
   "outputs": [
    {
     "name": "stdout",
     "output_type": "stream",
     "text": [
      "Training data shape: (60000, 28, 28)\n",
      "Test data shape: (10000, 28, 28)\n"
     ]
    },
    {
     "data": {
      "image/png": "[encoded data removed]",
      "text/plain": [
       "<Figure size 640x480 with 1 Axes>"
      ]
     },
     "metadata": {},
     "output_type": "display_data"
    }
   ],
   "source": [
    "from tensorflow.keras.datasets import mnist\n",
    "import numpy as np\n",
    "import matplotlib.pyplot as plt\n",
    "\n",
    "np.set_printoptions(threshold=10, edgeitems=10)\n",
    "# Load the dataset\n",
    "(X_train_raw, y_train_raw), (X_test_raw, y_test_raw) = mnist.load_data()\n",
    "\n",
    "# Normalize the data to the range [0, 1]\n",
    "X_train_raw = X_train_raw.astype('float32') / 255\n",
    "X_test_raw = X_test_raw.astype('float32') / 255\n",
    "\n",
    "print(f\"Training data shape: {X_train_raw.shape}\")\n",
    "print(f\"Test data shape: {X_test_raw.shape}\")\n",
    "\n",
    "# Plot one image from the training dataset\n",
    "plt.imshow(X_train_raw[0], cmap='gray')\n",
    "plt.title(f\"Label: {y_train_raw[0]}\")\n",
    "plt.axis('off')\n",
    "plt.show()"
   ]
  },
  {
   "cell_type": "code",
   "execution_count": 2,
   "id": "748cf380-6429-4dea-bb77-1c0180b8aea6",
   "metadata": {
    "tags": []
   },
   "outputs": [],
   "source": [
    "X_train = X_train_raw.reshape(X_train_raw.shape[0],-1).T\n",
    "X_test = X_test_raw.reshape(X_test_raw.shape[0],-1).T"
   ]
  },
  {
   "cell_type": "code",
   "execution_count": 3,
   "id": "f62b2c49-72af-4821-a550-50a0c25af8d0",
   "metadata": {
    "tags": []
   },
   "outputs": [
    {
     "name": "stdout",
     "output_type": "stream",
     "text": [
      "[[0.5  0.3  0.25 0.11 0.72]]\n",
      "1\n",
      "Weights 0: (3, 1)\n",
      "Biases 0: (3, 1)\n",
      "Weights 1: (2, 3)\n",
      "Biases 1: (2, 1)\n",
      "Weights 2: (3, 2)\n",
      "Biases 2: (3, 1)\n",
      "Weights 3: (4, 3)\n",
      "Biases 3: (4, 1)\n",
      "[array([[0.81595468],\n",
      "       [0.52119025],\n",
      "       [0.31725459]]), array([[0.90300107, 0.63998565, 0.83564905],\n",
      "       [0.67310706, 0.78683735, 0.01252655]]), array([[0.03767037, 0.96535652],\n",
      "       [0.30173366, 0.67600061],\n",
      "       [0.7692459 , 0.42353887]]), array([[0.36962115, 0.66773357, 0.38386732],\n",
      "       [0.42281596, 0.04598271, 0.87568308],\n",
      "       [0.45705549, 0.78253686, 0.02471491],\n",
      "       [0.11225228, 0.31613083, 0.95173316]])]\n"
     ]
    }
   ],
   "source": [
    "def softmax(array):\n",
    "    # Subtract the max value to prevent overflow during exponentiation\n",
    "    exp_array = np.exp(array - np.max(array, axis=-1, keepdims=True))\n",
    "    return exp_array / np.sum(exp_array, axis=-1, keepdims=True)\n",
    "\n",
    "def clipping(y_pred, epsilon=1e-15):\n",
    "    return np.clip(y_pred, epsilon, 1 - epsilon)\n",
    "\n",
    "class AnnStructure:\n",
    "    def __init__(self,data,hidden_sizes,output_size):\n",
    "        \n",
    "        self.data = data\n",
    "        #data must be stored such that len(data) == input_size\n",
    "        self.input_size = self.data.shape[0]\n",
    "        #array of size for each hidden layer\n",
    "        self.hidden_sizes = hidden_sizes\n",
    "        #size of the output layer\n",
    "        self.output_size = output_size\n",
    "        \n",
    "        #definition of the weights and biases\n",
    "        self.W = []\n",
    "        self.b = []\n",
    "\n",
    "        # Weights and biases for input to first hidden layer\n",
    "        self.W.append(np.random.rand(hidden_sizes[0],self.input_size))\n",
    "        self.b.append(np.zeros((hidden_sizes[0],1)))\n",
    "\n",
    "        # Weights and biases for connections between hidden layers\n",
    "        for i in range(1, len(hidden_sizes)):\n",
    "            self.W.append(np.random.rand(hidden_sizes[i],hidden_sizes[i-1]))\n",
    "            self.b.append(np.zeros((hidden_sizes[i],1)))\n",
    "\n",
    "        # Weights and biases for last hidden layer to output layer\n",
    "        self.W.append(np.random.rand(output_size,hidden_sizes[-1]))\n",
    "        self.b.append(np.zeros((output_size,1)))\n",
    "        \n",
    "        #definition of the output of each layer\n",
    "        self.Z = []\n",
    "        \n",
    "    def feedforward(self):\n",
    "        \n",
    "        print(f\"W[0] = {self.W[0]} \\n\\n data = {self.data} \\n\")\n",
    "        self.Z.append(np.maximum(0,np.dot(self.W[0],self.data)+self.b[0]))\n",
    "        \n",
    "        for i in range(1,len(self.W)-1):\n",
    "            self.Z.append(np.maximum(0,np.dot(self.W[i],self.Z[i-1]) + self.b[i]))\n",
    "            print(f\"Weights {i}: {mnist_ann.W[i].shape}\")\n",
    "            print(f\"Biases {i}: {mnist_ann.b[i].shape}\")\n",
    "            print(f\"Z{i-1}: {mnist_ann.Z[i-1].shape}\")\n",
    "            \n",
    "        \n",
    "        print(f\"Weights {-1}: {mnist_ann.W[-1].shape}\")\n",
    "        print(f\"Biases {-1}: {mnist_ann.b[-1].shape}\")\n",
    "        print(f\"Z{-2}: {mnist_ann.Z[-2].shape}\")\n",
    "        #out = clipping(softmax(np.dot(self.W[-1],self.Z[-1]) + self.b[-1]))\n",
    "        out = softmax(np.dot(self.W[-1],self.Z[-1]) + self.b[-1])\n",
    "        self.Z.append(out)\n",
    "        \n",
    "        \n",
    "        print(f\"Z_output is: {self.Z[-1]} \\nZ_output shape is: {self.Z[-1].shape}\")\n",
    "        \n",
    "    def backpropagation(self):\n",
    "        \n",
    "        return \n",
    "            \n",
    "# Example usage\n",
    "data = np.array([[0.5, 0.3, 0.25, 0.11, 0.72]])  # Sample data with 5 features\n",
    "data = data\n",
    "print(data)\n",
    "print(len(data))\n",
    "hidden_sizes = [3, 2, 3]  # three hidden layers with 3, 2 and 3 neurons respectively\n",
    "output_size = 4  # Output layer with 4 neurons\n",
    "\n",
    "trial_ann = AnnStructure(data, hidden_sizes, output_size)\n",
    "\n",
    "# Printing the shapes of the weights and biases for verification\n",
    "for i in range(len(trial_ann.W)):\n",
    "    print(f\"Weights {i}: {trial_ann.W[i].shape}\")\n",
    "    print(f\"Biases {i}: {trial_ann.b[i].shape}\")\n",
    "\n",
    "    \n",
    "print(trial_ann.W)\n",
    "        \n",
    "        "
   ]
  },
  {
   "cell_type": "code",
   "execution_count": 4,
   "id": "0f6c2587-331b-43d5-b577-93d00662006b",
   "metadata": {
    "tags": []
   },
   "outputs": [
    {
     "name": "stdout",
     "output_type": "stream",
     "text": [
      "[0. 0. 0. 0. 0. 0. 0. 0. 0. 0. ... 0. 0. 0. 0. 0. 0. 0. 0. 0. 0.]\n",
      "(784, 60000)\n"
     ]
    }
   ],
   "source": [
    "#print(data)\n",
    "print(X_train[:,0])\n",
    "print(X_train.shape) #(W * X_train = 10x784 * 784x60000 --> 10*60000 --> 10x10 * 10*60000\n"
   ]
  },
  {
   "cell_type": "code",
   "execution_count": 5,
   "id": "2e7f9dcf-cb4d-47b0-9d6e-b2152a04069d",
   "metadata": {
    "tags": []
   },
   "outputs": [
    {
     "name": "stdout",
     "output_type": "stream",
     "text": [
      "Weights 0: (3, 784)\n",
      "Biases 0: (3, 1)\n",
      "Weights 1: (4, 3)\n",
      "Biases 1: (4, 1)\n",
      "Weights 2: (10, 4)\n",
      "Biases 2: (10, 1)\n"
     ]
    }
   ],
   "source": [
    "mnist_ann = AnnStructure(X_train,[3,4],10)\n",
    "\n",
    "for i in range(len(mnist_ann.W)):\n",
    "    print(f\"Weights {i}: {mnist_ann.W[i].shape}\")\n",
    "    print(f\"Biases {i}: {mnist_ann.b[i].shape}\")\n"
   ]
  },
  {
   "cell_type": "code",
   "execution_count": 6,
   "id": "120b1f6d-be2b-4cc1-835e-16348891ec7e",
   "metadata": {
    "tags": []
   },
   "outputs": [
    {
     "name": "stdout",
     "output_type": "stream",
     "text": [
      "W[0] = [[0.12421336 0.71717886 0.30438169 0.1548679  0.46420256 0.85030739\n",
      "  0.42513328 0.84439862 0.36010301 0.97476332 ... 0.87666925 0.72506833\n",
      "  0.44096125 0.99604199 0.65154268 0.72591811 0.49608117 0.61432288\n",
      "  0.76364691 0.64658706]\n",
      " [0.50647997 0.57601422 0.98472389 0.16886838 0.23515474 0.13059402\n",
      "  0.57867738 0.26405231 0.90835405 0.27468079 ... 0.86688587 0.55659854\n",
      "  0.32914233 0.03813062 0.84426693 0.27205389 0.48439707 0.79781312\n",
      "  0.45256896 0.39807646]\n",
      " [0.86813015 0.70427409 0.25955294 0.96845774 0.4765607  0.34034713\n",
      "  0.11648951 0.28712863 0.03596121 0.54773232 ... 0.68467099 0.83776869\n",
      "  0.27974574 0.58861642 0.99040712 0.64044543 0.68314389 0.23912413\n",
      "  0.02167294 0.97602574]] \n",
      "\n",
      " data = [[0. 0. 0. 0. 0. 0. 0. 0. 0. 0. ... 0. 0. 0. 0. 0. 0. 0. 0. 0. 0.]\n",
      " [0. 0. 0. 0. 0. 0. 0. 0. 0. 0. ... 0. 0. 0. 0. 0. 0. 0. 0. 0. 0.]\n",
      " [0. 0. 0. 0. 0. 0. 0. 0. 0. 0. ... 0. 0. 0. 0. 0. 0. 0. 0. 0. 0.]\n",
      " [0. 0. 0. 0. 0. 0. 0. 0. 0. 0. ... 0. 0. 0. 0. 0. 0. 0. 0. 0. 0.]\n",
      " [0. 0. 0. 0. 0. 0. 0. 0. 0. 0. ... 0. 0. 0. 0. 0. 0. 0. 0. 0. 0.]\n",
      " [0. 0. 0. 0. 0. 0. 0. 0. 0. 0. ... 0. 0. 0. 0. 0. 0. 0. 0. 0. 0.]\n",
      " [0. 0. 0. 0. 0. 0. 0. 0. 0. 0. ... 0. 0. 0. 0. 0. 0. 0. 0. 0. 0.]\n",
      " [0. 0. 0. 0. 0. 0. 0. 0. 0. 0. ... 0. 0. 0. 0. 0. 0. 0. 0. 0. 0.]\n",
      " [0. 0. 0. 0. 0. 0. 0. 0. 0. 0. ... 0. 0. 0. 0. 0. 0. 0. 0. 0. 0.]\n",
      " [0. 0. 0. 0. 0. 0. 0. 0. 0. 0. ... 0. 0. 0. 0. 0. 0. 0. 0. 0. 0.]\n",
      " ...\n",
      " [0. 0. 0. 0. 0. 0. 0. 0. 0. 0. ... 0. 0. 0. 0. 0. 0. 0. 0. 0. 0.]\n",
      " [0. 0. 0. 0. 0. 0. 0. 0. 0. 0. ... 0. 0. 0. 0. 0. 0. 0. 0. 0. 0.]\n",
      " [0. 0. 0. 0. 0. 0. 0. 0. 0. 0. ... 0. 0. 0. 0. 0. 0. 0. 0. 0. 0.]\n",
      " [0. 0. 0. 0. 0. 0. 0. 0. 0. 0. ... 0. 0. 0. 0. 0. 0. 0. 0. 0. 0.]\n",
      " [0. 0. 0. 0. 0. 0. 0. 0. 0. 0. ... 0. 0. 0. 0. 0. 0. 0. 0. 0. 0.]\n",
      " [0. 0. 0. 0. 0. 0. 0. 0. 0. 0. ... 0. 0. 0. 0. 0. 0. 0. 0. 0. 0.]\n",
      " [0. 0. 0. 0. 0. 0. 0. 0. 0. 0. ... 0. 0. 0. 0. 0. 0. 0. 0. 0. 0.]\n",
      " [0. 0. 0. 0. 0. 0. 0. 0. 0. 0. ... 0. 0. 0. 0. 0. 0. 0. 0. 0. 0.]\n",
      " [0. 0. 0. 0. 0. 0. 0. 0. 0. 0. ... 0. 0. 0. 0. 0. 0. 0. 0. 0. 0.]\n",
      " [0. 0. 0. 0. 0. 0. 0. 0. 0. 0. ... 0. 0. 0. 0. 0. 0. 0. 0. 0. 0.]] \n",
      "\n",
      "Weights 1: (4, 3)\n",
      "Biases 1: (4, 1)\n",
      "Z0: (3, 60000)\n",
      "Weights -1: (10, 4)\n",
      "Biases -1: (10, 1)\n",
      "Z-2: (3, 60000)\n",
      "Z_output is: [[8.08717001e-088 9.77522024e-081 3.38468930e-099 7.71657702e-104\n",
      "  6.82871308e-095 1.66344095e-084 2.30505356e-102 1.57856472e-072\n",
      "  2.16389297e-112 7.23629305e-097 ... 6.92361260e-103 7.45939630e-094\n",
      "  2.49168473e-106 3.90629763e-109 6.99029047e-116 1.07977332e-088\n",
      "  1.29083089e-086 2.60644449e-096 6.90321292e-097 1.37040312e-097]\n",
      " [3.12642315e-128 7.70225149e-118 2.37641188e-144 1.37901934e-151\n",
      "  7.46169638e-139 2.38855108e-123 1.52970730e-149 1.12311212e-105\n",
      "  3.71510727e-164 3.17544162e-141 ... 8.87656133e-150 1.44656960e-136\n",
      "  8.51818060e-155 1.65747294e-158 5.15729043e-169 1.67808456e-129\n",
      "  2.44284890e-126 1.37167981e-140 2.93401077e-141 6.22002026e-142]\n",
      " [1.97818525e-145 6.35597004e-134 2.70778727e-164 2.01550446e-172\n",
      "  2.30855415e-157 5.90924269e-140 1.07936383e-169 1.03542786e-119\n",
      "  2.80212718e-186 7.35198788e-161 ... 1.04504524e-170 1.75559358e-155\n",
      "  2.53543564e-176 4.15662289e-181 1.60327398e-192 9.92875708e-147\n",
      "  4.64202799e-143 5.19368811e-160 8.99435953e-161 5.08659685e-162]\n",
      " [1.14352224e-180 9.05185924e-166 4.17416492e-204 2.25834710e-213\n",
      "  3.70520163e-195 8.71286139e-174 1.25805988e-210 2.35009668e-149\n",
      "  2.09216415e-231 6.50680424e-199 ... 1.89317924e-211 5.22658805e-193\n",
      "  1.14760977e-218 2.97119881e-224 4.02353634e-238 1.25822086e-182\n",
      "  1.58175605e-178 1.00355280e-197 4.45013757e-199 2.25166451e-200]\n",
      " [9.76323329e-081 3.46996938e-074 6.03195528e-091 2.32263727e-095\n",
      "  2.46253430e-087 1.12785046e-077 4.28790753e-094 1.18755120e-066\n",
      "  2.75988932e-103 7.00929888e-089 ... 2.60431058e-094 4.78700772e-086\n",
      "  1.77473546e-097 7.43921630e-100 2.56043970e-106 1.48245746e-081\n",
      "  1.28107933e-079 1.92217310e-088 6.44329835e-089 2.17964767e-089]\n",
      " [2.29657254e-170 2.12593131e-156 1.50742376e-192 2.53283842e-201\n",
      "  4.99363075e-184 6.83100236e-164 1.23915636e-198 8.70915041e-141\n",
      "  3.25984041e-218 1.00107187e-187 ... 1.50891771e-199 4.25157331e-182\n",
      "  2.51652119e-206 1.05980917e-211 1.01892434e-224 3.60573204e-172\n",
      "  2.89696583e-168 1.35467843e-186 7.59694889e-188 3.72089336e-189]\n",
      " [5.78058559e-164 1.77399061e-150 3.15210941e-185 1.12656195e-193\n",
      "  3.98931040e-177 1.00341319e-157 3.75102616e-191 1.58595026e-135\n",
      "  5.38708243e-210 1.46212261e-180 ... 6.40289894e-192 3.62522689e-175\n",
      "  1.86335709e-198 1.52811022e-203 3.87265153e-216 1.00425447e-165\n",
      "  5.53377602e-162 1.72427738e-179 1.06794123e-180 6.92371349e-182]\n",
      " [3.18777392e-122 2.34592822e-112 1.92181955e-138 1.23926055e-144\n",
      "  6.42862976e-132 1.27296440e-117 1.67275262e-142 5.28801302e-101\n",
      "  1.55637255e-156 5.24782818e-135 ... 1.43177309e-143 5.78775620e-131\n",
      "  2.16572901e-148 1.47737685e-152 1.45294018e-161 1.88927997e-123\n",
      "  1.24505917e-120 4.09325365e-134 4.93821429e-135 3.06622537e-136]\n",
      " [8.49958623e-126 9.42521717e-116 4.88761967e-142 5.64830812e-149\n",
      "  4.39285393e-136 4.75850482e-121 9.80374010e-147 1.17008817e-103\n",
      "  4.34618557e-161 5.97218236e-139 ... 1.76353700e-147 2.10859125e-134\n",
      "  2.27682213e-152 2.11580108e-156 2.77145876e-166 5.63982104e-127\n",
      "  7.25730530e-124 3.24702652e-138 6.40355665e-139 6.45613588e-140]\n",
      " [4.91963267e-121 2.05006523e-111 8.75022432e-137 2.08702600e-143\n",
      "  6.88089058e-131 1.76579641e-116 3.47984161e-141 9.77215183e-100\n",
      "  5.35925556e-155 8.32553116e-134 ... 4.70938457e-142 1.93341602e-129\n",
      "  9.53366567e-147 9.66042959e-151 4.03652238e-160 3.78377240e-122\n",
      "  3.71290114e-119 4.58779299e-133 9.28651994e-134 8.12579983e-135]] \n",
      "Z_output shape is: (10, 60000)\n"
     ]
    }
   ],
   "source": [
    "mnist_ann.feedforward()"
   ]
  },
  {
   "cell_type": "code",
   "execution_count": 28,
   "id": "4638b434-7050-4a7b-954a-1aa592074698",
   "metadata": {
    "tags": []
   },
   "outputs": [
    {
     "name": "stdout",
     "output_type": "stream",
     "text": [
      "[5 0 4 1 9 2 1 3 1 4 ... 9 2 9 5 1 8 3 5 6 8]\n",
      "[[0 0 0 0 0 1 0 0 0 0]\n",
      " [1 0 0 0 0 0 0 0 0 0]\n",
      " [0 0 0 0 1 0 0 0 0 0]\n",
      " [0 1 0 0 0 0 0 0 0 0]\n",
      " [0 0 0 0 0 0 0 0 0 1]\n",
      " [0 0 1 0 0 0 0 0 0 0]\n",
      " [0 1 0 0 0 0 0 0 0 0]\n",
      " [0 0 0 1 0 0 0 0 0 0]\n",
      " [0 1 0 0 0 0 0 0 0 0]\n",
      " [0 0 0 0 1 0 0 0 0 0]\n",
      " ...\n",
      " [0 0 0 0 0 0 0 0 0 1]\n",
      " [0 0 1 0 0 0 0 0 0 0]\n",
      " [0 0 0 0 0 0 0 0 0 1]\n",
      " [0 0 0 0 0 1 0 0 0 0]\n",
      " [0 1 0 0 0 0 0 0 0 0]\n",
      " [0 0 0 0 0 0 0 0 1 0]\n",
      " [0 0 0 1 0 0 0 0 0 0]\n",
      " [0 0 0 0 0 1 0 0 0 0]\n",
      " [0 0 0 0 0 0 1 0 0 0]\n",
      " [0 0 0 0 0 0 0 0 1 0]]\n",
      "0.10001333333333332\n",
      "34.5380981331341\n"
     ]
    }
   ],
   "source": [
    "y_train = y_train_raw.T\n",
    "print(y_train)\n",
    "\n",
    "def encode(A):\n",
    "    masks = []\n",
    "    for i in range(10):\n",
    "        #print(i)\n",
    "        mask = (A==i)\n",
    "        masks.append(mask)\n",
    "    masks=np.array(masks).astype(int).T\n",
    "    return masks\n",
    "\n",
    "print(encode(y_train))\n",
    "\n",
    "def categorical_cross_entropy(y_true, y_pred):\n",
    "    y_pred = np.clip(y_pred, 1e-15, 1 - 1e-15)  # Clipping for numerical stability\n",
    "    loss = -np.sum(y_true * np.log(y_pred)) / y_true.shape[0]\n",
    "    return loss\n",
    "\n",
    "def mean_squared_error(y_true, y_pred):\n",
    "    loss = np.mean((y_true - y_pred) ** 2)\n",
    "    return loss\n",
    "\n",
    "def loss(loss_fun,y_true,y_pred):\n",
    "    return loss_fun(y_true,y_pred.T)\n",
    "\n",
    "print(loss(mean_squared_error,encode(y_train),mnist_ann.Z[-1]))\n",
    "print(loss(categorical_cross_entropy,encode(y_train),mnist_ann.Z[-1]))"
   ]
  },
  {
   "cell_type": "markdown",
   "id": "2bdd673c-66d5-4130-ae5b-d57d2a4f0c18",
   "metadata": {},
   "source": [
    "# Area de pruebas"
   ]
  },
  {
   "cell_type": "code",
   "execution_count": 8,
   "id": "81c545c3-bd1f-419b-93b5-cb8bb8c4e514",
   "metadata": {
    "tags": []
   },
   "outputs": [
    {
     "name": "stdout",
     "output_type": "stream",
     "text": [
      "Your method time: 2.6139960289001465\n",
      "Vectorized method time: 1.8018467426300049\n"
     ]
    }
   ],
   "source": [
    "import time\n",
    "\n",
    "# Define the input array\n",
    "A = np.random.randint(0, 10, size=100000000)\n",
    "\n",
    "# Your method\n",
    "start_time = time.time()\n",
    "masks = []\n",
    "for i in range(10):\n",
    "    mask = (A == i)\n",
    "    masks.append(mask)\n",
    "masks = np.array(masks).astype(int).T\n",
    "end_time = time.time()\n",
    "print(\"Your method time:\", end_time - start_time)\n",
    "\n",
    "# Vectorized method\n",
    "start_time = time.time()\n",
    "one_hot_encoded = np.zeros((A.size, 10), dtype=int)\n",
    "one_hot_encoded[np.arange(A.size), A] = 1\n",
    "end_time = time.time()\n",
    "print(\"Vectorized method time:\", end_time - start_time)"
   ]
  },
  {
   "cell_type": "code",
   "execution_count": 9,
   "id": "f72c2914-acaf-4c43-b7ec-771129f49d5b",
   "metadata": {
    "tags": []
   },
   "outputs": [
    {
     "name": "stdout",
     "output_type": "stream",
     "text": [
      "[8.13367935 5.80087549 7.59562912]\n"
     ]
    }
   ],
   "source": [
    "#a = np.array([[1,2,3,4,5]])\n",
    "#b = np.array([[1,0,0],[0,1,0],[0,0,1],[0,1,0],[3,0,0]])\n",
    "\n",
    "a = np.array([1,2,3,4,5])\n",
    "b = np.array([[0.4971655 , 0.46514149, 0.683409  ],[0.34680189 ,0.01691117, 0.64675005],[0.83683601 ,0.93708358, 0.25226605],[0.93013801, 0.49240928, 0.40130433],[0.14237  ,  0.10420476, 0.65134091]])\n",
    "\n",
    "\n",
    "print(np.dot(a,b))"
   ]
  },
  {
   "cell_type": "code",
   "execution_count": 10,
   "id": "8eaeb0a0-2de5-4cec-b6a5-e3d4b6521f8d",
   "metadata": {
    "tags": []
   },
   "outputs": [
    {
     "ename": "NameError",
     "evalue": "name 'W1' is not defined",
     "output_type": "error",
     "traceback": [
      "\u001b[0;31m---------------------------------------------------------------------------\u001b[0m",
      "\u001b[0;31mNameError\u001b[0m                                 Traceback (most recent call last)",
      "Cell \u001b[0;32mIn[10], line 1\u001b[0m\n\u001b[0;32m----> 1\u001b[0m Z1 \u001b[38;5;241m=\u001b[39m np\u001b[38;5;241m.\u001b[39mdot(W1,X_train)\n\u001b[1;32m      2\u001b[0m \u001b[38;5;28mprint\u001b[39m(Z1\u001b[38;5;241m.\u001b[39mshape)\n\u001b[1;32m      3\u001b[0m \u001b[38;5;28mprint\u001b[39m(Z1[:,\u001b[38;5;241m0\u001b[39m])\n",
      "\u001b[0;31mNameError\u001b[0m: name 'W1' is not defined"
     ]
    }
   ],
   "source": [
    "Z1 = np.dot(W1,X_train)\n",
    "print(Z1.shape)\n",
    "print(Z1[:,0])"
   ]
  },
  {
   "cell_type": "code",
   "execution_count": null,
   "id": "4f4c6a5b-e3b1-4eec-9e57-322fde65083f",
   "metadata": {
    "tags": []
   },
   "outputs": [],
   "source": [
    "a = np.array([[[0,1,0],[2,3,0]],[[4,5,4],[6,7,4]]])\n",
    "\n",
    "flattened_array = a.reshape(a.shape[0], -1)\n",
    "print(flattened_array.T)"
   ]
  },
  {
   "cell_type": "code",
   "execution_count": null,
   "id": "39bd1f9d-a43f-4b74-91b2-1f5f2ff014aa",
   "metadata": {
    "tags": []
   },
   "outputs": [],
   "source": [
    "flattened_array2 = flattened_array.T\n",
    "print(flattened_array.shape)\n",
    "print(len(flattened_array2))\n",
    "print(flattened_array2,\"\\n\\n\")\n",
    "print(flattened_array2[4,1])\n",
    "\n",
    "                    "
   ]
  },
  {
   "cell_type": "code",
   "execution_count": null,
   "id": "63de3a8f-69a6-49dc-90b2-6d6b28786a08",
   "metadata": {
    "tags": []
   },
   "outputs": [],
   "source": [
    "\n"
   ]
  },
  {
   "cell_type": "code",
   "execution_count": null,
   "id": "0cfc041f-67ac-4ff9-9b0a-24cb6329442e",
   "metadata": {
    "tags": []
   },
   "outputs": [],
   "source": [
    "A = np.array([1,2,3,4,5,-1,-3])\n",
    "\n",
    "print(A)\n",
    "\n",
    "print(ReLu(A))\n",
    "\n",
    "print(type(A))"
   ]
  },
  {
   "cell_type": "code",
   "execution_count": null,
   "id": "74be2f69-ee6b-4c38-b6ed-c8bb321f5e91",
   "metadata": {
    "tags": []
   },
   "outputs": [],
   "source": [
    "global_vars = list(globals().keys())\n",
    "print(\"Global variable names:\", global_vars)"
   ]
  },
  {
   "cell_type": "code",
   "execution_count": null,
   "id": "b5bd03e1-f311-479e-b04d-578473106231",
   "metadata": {
    "tags": []
   },
   "outputs": [],
   "source": [
    "A3d = np.ones((3, 4, 2))\n",
    "\n",
    "print(A3d)"
   ]
  },
  {
   "cell_type": "code",
   "execution_count": null,
   "id": "930228aa-81dc-415e-8b70-d3c9d592c4e4",
   "metadata": {
    "tags": []
   },
   "outputs": [],
   "source": [
    "print(mnist_ann.W[2].shape)"
   ]
  },
  {
   "cell_type": "code",
   "execution_count": null,
   "id": "4ee4b8a4-e8d3-4498-babf-604ce96e7015",
   "metadata": {
    "tags": []
   },
   "outputs": [],
   "source": [
    "\n",
    "\n",
    "# Example usage\n",
    "x = np.array([-1, 2, -3, 4, -5])\n",
    "output = np.maximum(x,0)\n",
    "print(\"Input:\", x)\n",
    "print(\"Output:\", output)"
   ]
  },
  {
   "cell_type": "code",
   "execution_count": null,
   "id": "9f0e70c2-db86-4c6a-98f6-db9d1238aabb",
   "metadata": {
    "tags": []
   },
   "outputs": [],
   "source": [
    "\n",
    "\n",
    "A = np.array([[0,1,0,2,1,1],[1,1,1,3,1,0]])\n",
    "print(np.sum(A,axis=-1, keepdims=True))\n",
    "\n",
    "A = softmax([0,1,0,10,1,1])\n",
    "\n",
    "print(A)"
   ]
  },
  {
   "cell_type": "code",
   "execution_count": null,
   "id": "4d8e5950-7100-4f05-a482-31b3e4ff30c7",
   "metadata": {},
   "outputs": [],
   "source": [
    "def categorical_cross_entropy(y_true, y_pred):\n",
    "    y_pred = np.clip(y_pred, 1e-15, 1 - 1e-15)  # Clipping for numerical stability\n",
    "    loss = -np.sum(y_true * np.log(y_pred)) / y_true.shape[0]\n",
    "    return loss\n",
    "\n",
    "# Example usage\n",
    "y_true = np.array([[1, 0, 0], [0, 1, 0], [0, 0, 1]])\n",
    "y_pred = np.array([[0.9, 0.05, 0.05], [0.1, 0.8, 0.1], [0.2, 0.2, 0.6]])\n",
    "print(\"Categorical Cross-Entropy Loss:\", categorical_cross_entropy(y_true, y_pred))"
   ]
  },
  {
   "cell_type": "code",
   "execution_count": null,
   "id": "82310411-e233-470a-b1b8-e1289cb28285",
   "metadata": {
    "tags": []
   },
   "outputs": [],
   "source": [
    "def mean_squared_error(y_true, y_pred):\n",
    "    loss = np.mean((y_true - y_pred) ** 2)\n",
    "    return loss\n",
    "\n",
    "print(\"Mean Squared Error:\", mean_squared_error(y_true, y_pred))\n",
    "\n",
    "print(y_true)"
   ]
  },
  {
   "cell_type": "code",
   "execution_count": null,
   "id": "2dc8f536-66cb-4714-800e-eca13c28d80f",
   "metadata": {
    "tags": []
   },
   "outputs": [],
   "source": [
    "A = np.array([1,2,3,3,4,2,4,5])\n",
    "\n",
    "array2 = zeros_matrix = np.zeros((A.shape[0],5), dtype=int)\n",
    "#print(array2)\n",
    "\n",
    "\n",
    "\n",
    "\n",
    "#A = np.array([1,2,3,4,8,9,0])\n",
    "#masks = []\n",
    "#for i in range(10):\n",
    "#    print(i)\n",
    "#    mask = (A==i)\n",
    "#    masks.append(mask)\n",
    "    \n",
    "#masks=np.array(masks).astype(int).T\n",
    "#print(masks)\n",
    "\n",
    "#A[mask] = 0\n",
    "\n",
    "#print(A)"
   ]
  },
  {
   "cell_type": "markdown",
   "id": "806d0d9a-8447-43c8-968e-0898651a308b",
   "metadata": {},
   "source": [
    "## Gradient descent"
   ]
  },
  {
   "cell_type": "code",
   "execution_count": 124,
   "id": "ea9e93c7-a51b-4574-8976-3260326a919a",
   "metadata": {
    "tags": []
   },
   "outputs": [
    {
     "name": "stdout",
     "output_type": "stream",
     "text": [
      "hello world\n",
      "Theta encontrado: [[100.17476783]\n",
      " [ 29.84523846]]\n"
     ]
    },
    {
     "data": {
      "image/png": "[encoded data removed]",
      "text/plain": [
       "<Figure size 640x480 with 1 Axes>"
      ]
     },
     "metadata": {},
     "output_type": "display_data"
    }
   ],
   "source": [
    "# Generar datos sintéticos\n",
    "np.random.seed(42)\n",
    "X = 1 * np.random.rand(1000, 1)\n",
    "y = 100 + 30 * X + np.random.randn(1000, 1)\n",
    "\n",
    "# Añadir el término de bias\n",
    "X_b = np.c_[np.ones((1000, 1)), X]  # Añadir una columna de unos a X\n",
    "\n",
    "# Definir la función de costo (error cuadrático medio)\n",
    "def compute_cost(theta, X, y):\n",
    "    m = len(y)\n",
    "    predictions = X.dot(theta)\n",
    "    cost = (1/(2*m)) * np.sum(np.square(predictions - y))\n",
    "    return cost\n",
    "\n",
    "# Inicializar los parámetros theta\n",
    "theta = np.random.randn(2, 1)\n",
    "\n",
    "# Parámetros de gradient descent\n",
    "learning_rate = 0.01\n",
    "n_iterations = 10000\n",
    "\n",
    "\n",
    "\n",
    "def gradient_descent(X, y, theta,learning_rate = 0.01,n_iterations = 30):\n",
    "    print(\"hello world\")\n",
    "    cost_history = []\n",
    "    m = len(y)\n",
    "    for n in range(n_iterations):\n",
    "        cost = compute_cost(theta,X,y)\n",
    "        cost_history.append(cost)\n",
    "        \n",
    "        predictions = X.dot(theta)\n",
    "        diff = predictions-y\n",
    "        #print(\"diff \",diff,diff.shape)\n",
    "        #print(\"X\",X[:,1],X[:,1].shape)\n",
    "        dtheta = (2/m)*X.T.dot(diff)\n",
    "        #db = 2*np.mean(diff)\n",
    "        #theta = theta[0]-learning_rate*db\n",
    "        theta = theta - learning_rate*dtheta\n",
    "        \n",
    "    return theta, cost_history\n",
    " \n",
    "theta, cost_history = gradient_descent(X_b, y, theta, learning_rate, n_iterations)\n",
    "\n",
    "    \n",
    "    \n",
    "    \n",
    "# Para verificar los resultados\n",
    "print(\"Theta encontrado:\", theta)\n",
    "\n",
    "# Visualizar los resultados \n",
    "plt.plot(X, y, 'b.')\n",
    "plt.plot(X, X_b.dot(theta), 'r-')\n",
    "plt.xlabel(\"x\")\n",
    "plt.ylabel(\"y\")\n",
    "plt.title(\"Regresión Lineal usando Gradient Descent\")\n",
    "plt.show()"
   ]
  },
  {
   "cell_type": "code",
   "execution_count": 116,
   "id": "b13c5db2-4507-4f6e-a71f-d3ce4d8904d4",
   "metadata": {
    "tags": []
   },
   "outputs": [
    {
     "name": "stdout",
     "output_type": "stream",
     "text": [
      "20\n"
     ]
    }
   ],
   "source": [
    "A = np.array([1,2,3,4])\n",
    "B = np.array([4,3,2,1])\n",
    "\n",
    "print(A.dot(B))"
   ]
  },
  {
   "cell_type": "code",
   "execution_count": null,
   "id": "79d79e86-daca-4f09-a668-a2814a6257d9",
   "metadata": {},
   "outputs": [],
   "source": []
  }
 ],
 "metadata": {
  "kernelspec": {
   "display_name": "Python 3 (ipykernel)",
   "language": "python",
   "name": "python3"
  },
  "language_info": {
   "codemirror_mode": {
    "name": "ipython",
    "version": 3
   },
   "file_extension": ".py",
   "mimetype": "text/x-python",
   "name": "python",
   "nbconvert_exporter": "python",
   "pygments_lexer": "ipython3",
   "version": "3.11.5"
  }
 },
 "nbformat": 4,
 "nbformat_minor": 5
}
